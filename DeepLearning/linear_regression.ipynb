{
 "cells": [
  {
   "cell_type": "markdown",
   "source": [
    "# Linear Regression\r\n",
    "\r\n",
    "Author: Richard H. CHEN"
   ],
   "metadata": {}
  },
  {
   "cell_type": "markdown",
   "source": [
    "## 0. 导入相关模块"
   ],
   "metadata": {}
  },
  {
   "cell_type": "code",
   "execution_count": null,
   "source": [
    "import numpy as np\r\n",
    "import matplotlib.pyplot as plt"
   ],
   "outputs": [],
   "metadata": {}
  },
  {
   "cell_type": "markdown",
   "source": [
    "## 1. 随机生成数据"
   ],
   "metadata": {}
  },
  {
   "cell_type": "code",
   "execution_count": null,
   "source": [
    "# 指示随机数的个数，设置为 50\r\n",
    "# 并随机生成 50 个范围为 0~10 的随机浮点数数组，存放到变量 x 中\r\n",
    "point_num=50\r\n",
    "x=np.random.rand(point_num)*10\r\n",
    "print(x) # 查看结果"
   ],
   "outputs": [],
   "metadata": {}
  },
  {
   "cell_type": "code",
   "execution_count": null,
   "source": [
    "# 生成 y\r\n",
    "y_real=x+np.sin(x)+np.log(x+0.1)-5\r\n",
    "# 为 y 添加正态随机偏移量（符合正态分布的偏移量）\r\n",
    "y=y_real+np.random.normal(0.0,2.0,point_num)\r\n",
    "print(y) # 查看结果"
   ],
   "outputs": [],
   "metadata": {}
  },
  {
   "cell_type": "code",
   "execution_count": null,
   "source": [
    "# 绘制散点图\r\n",
    "plt.figure(figsize=(10, 10), dpi=100)\r\n",
    "plt.scatter(x, y)\r\n",
    "plt.show()"
   ],
   "outputs": [],
   "metadata": {}
  },
  {
   "cell_type": "markdown",
   "source": [
    "## 2. 最小二乘法"
   ],
   "metadata": {}
  },
  {
   "cell_type": "code",
   "execution_count": 67,
   "source": [
    "# 输入：自变量X，因变量Y的测量值\r\n",
    "# 返回：多项式系数W\r\n",
    "def least_square(X,Y):\r\n",
    "    '''\r\n",
    "    输入：自变量X，因变量Y的测量值\r\n",
    "    返回：多项式系数W\r\n",
    "    '''\r\n",
    "    Xt=np.transpose(X)\r\n",
    "    X1=np.matmul(Xt,X)\r\n",
    "    X1in=np.linalg.inv(X1)\r\n",
    "    W1=np.matmul(X1in,Xt)\r\n",
    "    W=np.matmul(W1,Y)\r\n",
    "    return W"
   ],
   "outputs": [],
   "metadata": {}
  },
  {
   "cell_type": "markdown",
   "source": [
    "## 3. 一元一次线性回归"
   ],
   "metadata": {}
  },
  {
   "cell_type": "code",
   "execution_count": null,
   "source": [
    "e=np.ones(len(x))\r\n",
    "A=np.hstack((x.reshape(-1,1),e.reshape(-1,1))) # 把A转化为矩阵\r\n",
    "W=least_square(A,y)\r\n",
    "# 绘图\r\n",
    "plt.scatter(x,y,color=\"blue\",label=\"data\")\r\n",
    "xL=np.linspace(0,10,100) # 在0-10之间取100个点\r\n",
    "yL=W[0]*xL+W[1]\r\n",
    "plt.plot(xL,yL,color=\"red\",label=\"Fitted Line: y=a*x+b\")\r\n"
   ],
   "outputs": [],
   "metadata": {}
  },
  {
   "cell_type": "markdown",
   "source": [
    "## 4. 一元二次线性回归"
   ],
   "metadata": {}
  },
  {
   "cell_type": "code",
   "execution_count": null,
   "source": [
    "x2 = x**2\r\n",
    "e = np.ones(len(x))\r\n",
    "A = np.hstack((x2.reshape(-1, 1), x.reshape(-1, 1),\r\n",
    "               e.reshape(-1, 1)))  # 把A转化为矩阵[x**2,x,1]\r\n",
    "W = least_square(A, y)\r\n",
    "# 绘图\r\n",
    "plt.scatter(x, y, color=\"blue\", label=\"data\")\r\n",
    "xL = np.linspace(0, 10, 50)  # 在0-10之间取100个点\r\n",
    "yL = W[0]*(xL**2)+W[1]*xL+W[2]\r\n",
    "plt.plot(xL, yL, color=\"red\", label=\"Fitted Line: y=a1*x^2+a0*x+b\")\r\n",
    "print(W)\r\n"
   ],
   "outputs": [],
   "metadata": {}
  },
  {
   "cell_type": "markdown",
   "source": [
    "## 5. 一元三次线性回归"
   ],
   "metadata": {}
  },
  {
   "cell_type": "code",
   "execution_count": null,
   "source": [
    "x3=x**3\r\n",
    "e=np.ones(len(x))\r\n",
    "A=np.hstack((x3.reshape(-1,1),x2.reshape(-1,1),x.reshape(-1,1),e.reshape(-1,1)))\r\n",
    "W=least_square(A,y)\r\n",
    "# 绘图\r\n",
    "plt.scatter(x,y,color=\"blue\",label=\"data\")\r\n",
    "xL=np.linspace(0,10,50) # 在0-10之间取100个点\r\n",
    "yL=W[0]*(xL**3)+W[1]*(xL**2)+W[2]*xL+W[3]\r\n",
    "plt.plot(xL,yL,color=\"red\",label=\"Fitted Line: y=a2*x^3+a1*x^2+a0*x+b\")\r\n",
    "print(W)"
   ],
   "outputs": [],
   "metadata": {}
  },
  {
   "cell_type": "markdown",
   "source": [
    "## 6. 一元四次线性回归"
   ],
   "metadata": {}
  },
  {
   "cell_type": "code",
   "execution_count": null,
   "source": [
    "x4=x**4\r\n",
    "e=np.ones(len(x))\r\n",
    "A=np.hstack((x4.reshape(-1,1),x3.reshape(-1,1),x2.reshape(-1,1),x.reshape(-1,1),e.reshape(-1,1)))\r\n",
    "W=least_square(A,y)\r\n",
    "# 绘图\r\n",
    "plt.scatter(x,y,color=\"blue\",label=\"data\")\r\n",
    "xL=np.linspace(0,10,50) # 在0-10之间取100个点\r\n",
    "yL=W[0]*(xL**4)+W[1]*(xL**3)+W[2]*(xL**2)+W[3]*xL+W[4]\r\n",
    "plt.plot(xL,yL,color=\"red\",label=\"Fitted Line: y=a3*x^4+a2*x^3+a1*x^2+a0*x+b\")\r\n",
    "print(W)"
   ],
   "outputs": [],
   "metadata": {}
  },
  {
   "cell_type": "markdown",
   "source": [
    "## 7. 一元五次线性回归"
   ],
   "metadata": {}
  },
  {
   "cell_type": "code",
   "execution_count": null,
   "source": [
    "x5=x**5\r\n",
    "e=np.ones(len(x))\r\n",
    "A=np.hstack((x5.reshape(-1,1),x4.reshape(-1,1),x3.reshape(-1,1),x2.reshape(-1,1),x.reshape(-1,1),e.reshape(-1,1)))\r\n",
    "W=least_square(A,y)\r\n",
    "# 绘图\r\n",
    "plt.scatter(x,y,color=\"blue\",label=\"data\")\r\n",
    "xL=np.linspace(0,10,50) # 在0-10之间取100个点\r\n",
    "yL=W[0]*(xL**5)+W[1]*(xL**4)+W[2]*(xL**3)+W[3]*(xL**2)+W[4]*xL+W[5]\r\n",
    "plt.plot(xL,yL,color=\"red\",label=\"Fitted Line: y=a4*x^5+a3*x^4+a2*x^3+a1*x^2+a0*x+b\")\r\n",
    "print(W)"
   ],
   "outputs": [],
   "metadata": {}
  },
  {
   "cell_type": "markdown",
   "source": [
    "## 8. 减少样本规模\r\n",
    "把上面制作随机数据时的样本点数量减少到10 ，重新执行上述步骤，观察样本规模的减少带来的过拟合现象。"
   ],
   "metadata": {}
  },
  {
   "cell_type": "code",
   "execution_count": null,
   "source": [
    "# 对x与y每隔5个抽取一个数据\r\n",
    "x1=x[0:point_num:5]\r\n",
    "print(x1)\r\n",
    "y1=y[0:point_num:5]\r\n",
    "print(y1)\r\n",
    "\r\n",
    "# 画散点图\r\n",
    "plt.figure(figsize=(10, 10), dpi=100)\r\n",
    "plt.scatter(x1, y1)\r\n",
    "plt.show()"
   ],
   "outputs": [],
   "metadata": {}
  },
  {
   "cell_type": "markdown",
   "source": [
    "### 8.1 一元一次线性回归"
   ],
   "metadata": {}
  },
  {
   "cell_type": "code",
   "execution_count": null,
   "source": [
    "e=np.ones(len(x1))\r\n",
    "A=np.hstack((x1.reshape(-1,1),e.reshape(-1,1))) # 把A转化为矩阵\r\n",
    "W=least_square(A,y1)\r\n",
    "# 绘图\r\n",
    "plt.scatter(x1,y1,color=\"blue\",label=\"data\")\r\n",
    "xL=np.linspace(0,10,100) # 在0-10之间取100个点\r\n",
    "yL=W[0]*xL+W[1]\r\n",
    "plt.plot(xL,yL,color=\"red\",label=\"Fitted Line: y=a*x+b\")"
   ],
   "outputs": [],
   "metadata": {}
  },
  {
   "cell_type": "markdown",
   "source": [
    "### 8.2 一元二次线性回归"
   ],
   "metadata": {}
  },
  {
   "cell_type": "code",
   "execution_count": null,
   "source": [
    "x12=x1**2\r\n",
    "e=np.ones(len(x1))\r\n",
    "A=np.hstack((x12.reshape(-1,1),x1.reshape(-1,1),e.reshape(-1,1))) # 把A转化为矩阵\r\n",
    "W=least_square(A,y1)\r\n",
    "# 绘图\r\n",
    "plt.scatter(x1,y1,color=\"blue\",label=\"data\")\r\n",
    "xL=np.linspace(0,10,100) # 在0-10之间取100个点\r\n",
    "yL=W[0]*(xL**2)+W[1]*xL+W[2]\r\n",
    "plt.plot(xL,yL,color=\"red\",label=\"Fitted Line: y=a1*x^2+a0*x+b\")"
   ],
   "outputs": [],
   "metadata": {}
  },
  {
   "cell_type": "markdown",
   "source": [
    "### 8.3 一元三次线性回归"
   ],
   "metadata": {}
  },
  {
   "cell_type": "code",
   "execution_count": null,
   "source": [
    "x13=x1**3\r\n",
    "e=np.ones(len(x1))\r\n",
    "A=np.hstack((x13.reshape(-1,1),x12.reshape(-1,1),x1.reshape(-1,1),e.reshape(-1,1)))\r\n",
    "W=least_square(A,y1)\r\n",
    "# 绘图\r\n",
    "plt.scatter(x1,y1,color=\"blue\",label=\"data\")\r\n",
    "xL=np.linspace(0,10,50) # 在0-10之间取100个点\r\n",
    "yL=W[0]*(xL**3)+W[1]*(xL**2)+W[2]*xL+W[3]\r\n",
    "plt.plot(xL,yL,color=\"red\",label=\"Fitted Line: y=a2*x^3+a1*x^2+a0*x+b\")\r\n",
    "print(W)"
   ],
   "outputs": [],
   "metadata": {}
  },
  {
   "cell_type": "markdown",
   "source": [
    "### 8.4 一元四次线性回归"
   ],
   "metadata": {}
  },
  {
   "cell_type": "code",
   "execution_count": null,
   "source": [
    "x14=x1**4\r\n",
    "e=np.ones(len(x1))\r\n",
    "A=np.hstack((x14.reshape(-1,1),x13.reshape(-1,1),x12.reshape(-1,1),x1.reshape(-1,1),e.reshape(-1,1)))\r\n",
    "W=least_square(A,y1)\r\n",
    "# 绘图\r\n",
    "plt.scatter(x1,y1,color=\"blue\",label=\"data\")\r\n",
    "xL=np.linspace(0,10,50) # 在0-10之间取100个点\r\n",
    "yL=W[0]*(xL**4)+W[1]*(xL**3)+W[2]*(xL**2)+W[3]*xL+W[4]\r\n",
    "plt.plot(xL,yL,color=\"red\",label=\"Fitted Line: y=a3*x^4+a2*x^3+a1*x^2+a0*x+b\")\r\n",
    "print(W)"
   ],
   "outputs": [],
   "metadata": {}
  },
  {
   "cell_type": "markdown",
   "source": [
    "### 8.5 一元五次线性回归"
   ],
   "metadata": {}
  },
  {
   "cell_type": "code",
   "execution_count": null,
   "source": [
    "x15=x1**5\r\n",
    "e=np.ones(len(x1))\r\n",
    "A=np.hstack((x15.reshape(-1,1),x14.reshape(-1,1),x13.reshape(-1,1),x12.reshape(-1,1),x1.reshape(-1,1),e.reshape(-1,1)))\r\n",
    "W=least_square(A,y1)\r\n",
    "# 绘图\r\n",
    "plt.scatter(x1,y1,color=\"blue\",label=\"data\")\r\n",
    "xL=np.linspace(0,10,50) # 在0-10之间取100个点\r\n",
    "yL=W[0]*(xL**5)+W[1]*(xL**4)+W[2]*(xL**3)+W[3]*(xL**2)+W[4]*xL+W[5]\r\n",
    "plt.plot(xL,yL,color=\"red\",label=\"Fitted Line: y=a4*x^5+a3*x^4+a2*x^3+a1*x^2+a0*x+b\")\r\n",
    "print(W)"
   ],
   "outputs": [],
   "metadata": {}
  }
 ],
 "metadata": {
  "interpreter": {
   "hash": "3fb8cba3a58d2ccb449a178f060f2d2ba8c148d288d47f95bf07de87f659abbf"
  },
  "kernelspec": {
   "name": "python3",
   "display_name": "Python 3.8.5 64-bit ('base': conda)"
  },
  "language_info": {
   "codemirror_mode": {
    "name": "ipython",
    "version": 3
   },
   "file_extension": ".py",
   "mimetype": "text/x-python",
   "name": "python",
   "nbconvert_exporter": "python",
   "pygments_lexer": "ipython3",
   "version": "3.8.5"
  }
 },
 "nbformat": 4,
 "nbformat_minor": 2
}
